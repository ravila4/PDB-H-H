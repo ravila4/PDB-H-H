{
 "cells": [
  {
   "cell_type": "markdown",
   "metadata": {},
   "source": [
    "# C-H···H-C Bond Analysis from all PDB NMR files"
   ]
  },
  {
   "cell_type": "code",
   "execution_count": 2,
   "metadata": {},
   "outputs": [],
   "source": [
    "import numpy as np\n",
    "import matplotlib.pyplot as plt\n",
    "import pandas as pd\n",
    "import pickle"
   ]
  },
  {
   "cell_type": "markdown",
   "metadata": {},
   "source": [
    "Read the results file"
   ]
  },
  {
   "cell_type": "code",
   "execution_count": 3,
   "metadata": {},
   "outputs": [
    {
     "data": {
      "text/html": [
       "<div>\n",
       "<style scoped>\n",
       "    .dataframe tbody tr th:only-of-type {\n",
       "        vertical-align: middle;\n",
       "    }\n",
       "\n",
       "    .dataframe tbody tr th {\n",
       "        vertical-align: top;\n",
       "    }\n",
       "\n",
       "    .dataframe thead th {\n",
       "        text-align: right;\n",
       "    }\n",
       "</style>\n",
       "<table border=\"1\" class=\"dataframe\">\n",
       "  <thead>\n",
       "    <tr style=\"text-align: right;\">\n",
       "      <th></th>\n",
       "      <th>H1</th>\n",
       "      <th>H2</th>\n",
       "      <th>PDBid</th>\n",
       "      <th>angle1</th>\n",
       "      <th>angle2</th>\n",
       "      <th>dihedral</th>\n",
       "      <th>distance</th>\n",
       "      <th>res1name</th>\n",
       "      <th>res1num</th>\n",
       "      <th>res2name</th>\n",
       "      <th>res2num</th>\n",
       "    </tr>\n",
       "  </thead>\n",
       "  <tbody>\n",
       "    <tr>\n",
       "      <th>0</th>\n",
       "      <td>HB3</td>\n",
       "      <td>HB</td>\n",
       "      <td>1zll</td>\n",
       "      <td>109.210561</td>\n",
       "      <td>153.077080</td>\n",
       "      <td>-93.374117</td>\n",
       "      <td>2.921670</td>\n",
       "      <td>MET</td>\n",
       "      <td>1</td>\n",
       "      <td>VAL</td>\n",
       "      <td>4</td>\n",
       "    </tr>\n",
       "    <tr>\n",
       "      <th>1</th>\n",
       "      <td>HG2</td>\n",
       "      <td>HB</td>\n",
       "      <td>1zll</td>\n",
       "      <td>111.368005</td>\n",
       "      <td>112.449970</td>\n",
       "      <td>-148.362221</td>\n",
       "      <td>2.303411</td>\n",
       "      <td>MET</td>\n",
       "      <td>1</td>\n",
       "      <td>VAL</td>\n",
       "      <td>4</td>\n",
       "    </tr>\n",
       "    <tr>\n",
       "      <th>2</th>\n",
       "      <td>HG2</td>\n",
       "      <td>HG22</td>\n",
       "      <td>1zll</td>\n",
       "      <td>112.619339</td>\n",
       "      <td>97.521295</td>\n",
       "      <td>160.227188</td>\n",
       "      <td>2.325773</td>\n",
       "      <td>MET</td>\n",
       "      <td>1</td>\n",
       "      <td>VAL</td>\n",
       "      <td>4</td>\n",
       "    </tr>\n",
       "    <tr>\n",
       "      <th>3</th>\n",
       "      <td>HG2</td>\n",
       "      <td>HG23</td>\n",
       "      <td>1zll</td>\n",
       "      <td>153.594525</td>\n",
       "      <td>84.877194</td>\n",
       "      <td>46.860788</td>\n",
       "      <td>2.561777</td>\n",
       "      <td>MET</td>\n",
       "      <td>1</td>\n",
       "      <td>VAL</td>\n",
       "      <td>4</td>\n",
       "    </tr>\n",
       "    <tr>\n",
       "      <th>4</th>\n",
       "      <td>HE2</td>\n",
       "      <td>HG22</td>\n",
       "      <td>1zll</td>\n",
       "      <td>107.549297</td>\n",
       "      <td>167.897272</td>\n",
       "      <td>134.889135</td>\n",
       "      <td>2.764146</td>\n",
       "      <td>MET</td>\n",
       "      <td>1</td>\n",
       "      <td>VAL</td>\n",
       "      <td>4</td>\n",
       "    </tr>\n",
       "  </tbody>\n",
       "</table>\n",
       "</div>"
      ],
      "text/plain": [
       "    H1    H2 PDBid      angle1      angle2    dihedral  distance res1name  \\\n",
       "0  HB3    HB  1zll  109.210561  153.077080  -93.374117  2.921670      MET   \n",
       "1  HG2    HB  1zll  111.368005  112.449970 -148.362221  2.303411      MET   \n",
       "2  HG2  HG22  1zll  112.619339   97.521295  160.227188  2.325773      MET   \n",
       "3  HG2  HG23  1zll  153.594525   84.877194   46.860788  2.561777      MET   \n",
       "4  HE2  HG22  1zll  107.549297  167.897272  134.889135  2.764146      MET   \n",
       "\n",
       "   res1num res2name  res2num  \n",
       "0        1      VAL        4  \n",
       "1        1      VAL        4  \n",
       "2        1      VAL        4  \n",
       "3        1      VAL        4  \n",
       "4        1      VAL        4  "
      ]
     },
     "execution_count": 3,
     "metadata": {},
     "output_type": "execute_result"
    }
   ],
   "source": [
    "contacts = pickle.load(open(\"hhcontacts.pkl\", 'rb'))\n",
    "contacts.head()"
   ]
  },
  {
   "cell_type": "markdown",
   "metadata": {},
   "source": [
    "### Number of contacts found"
   ]
  },
  {
   "cell_type": "code",
   "execution_count": 4,
   "metadata": {},
   "outputs": [
    {
     "data": {
      "text/plain": [
       "577998"
      ]
     },
     "execution_count": 4,
     "metadata": {},
     "output_type": "execute_result"
    }
   ],
   "source": [
    "len(contacts)"
   ]
  },
  {
   "cell_type": "markdown",
   "metadata": {},
   "source": [
    "### Number of unique PDBs with contacts"
   ]
  },
  {
   "cell_type": "code",
   "execution_count": 5,
   "metadata": {},
   "outputs": [
    {
     "data": {
      "text/plain": [
       "9315"
      ]
     },
     "execution_count": 5,
     "metadata": {},
     "output_type": "execute_result"
    }
   ],
   "source": [
    "len(np.unique(contacts['PDBid']))"
   ]
  },
  {
   "cell_type": "markdown",
   "metadata": {},
   "source": [
    "### Analyze distance and angle distribution"
   ]
  },
  {
   "cell_type": "code",
   "execution_count": 6,
   "metadata": {},
   "outputs": [
    {
     "data": {
      "image/png": "[encoded data removed]",
      "text/plain": [
       "<Figure size 432x288 with 1 Axes>"
      ]
     },
     "metadata": {},
     "output_type": "display_data"
    }
   ],
   "source": [
    "plt.hist(contacts['distance'], color=\"b\", bins=50)\n",
    "plt.title(\"Distribution of distances\")\n",
    "plt.show()"
   ]
  },
  {
   "cell_type": "code",
   "execution_count": 7,
   "metadata": {},
   "outputs": [
    {
     "data": {
      "image/png": "[encoded data removed]",
      "text/plain": [
       "<Figure size 432x288 with 1 Axes>"
      ]
     },
     "metadata": {},
     "output_type": "display_data"
    }
   ],
   "source": [
    "plt.hist(contacts['distance'], density=1, histtype='step', cumulative=True, bins=30)\n",
    "plt.title(\"Cummulative density distribution of distances\")\n",
    "plt.show()"
   ]
  },
  {
   "cell_type": "code",
   "execution_count": 8,
   "metadata": {},
   "outputs": [
    {
     "data": {
      "image/png": "[encoded data removed]",
      "text/plain": [
       "<Figure size 432x288 with 1 Axes>"
      ]
     },
     "metadata": {},
     "output_type": "display_data"
    }
   ],
   "source": [
    "all_angles = np.concatenate([contacts['angle1'], contacts['angle2']])\n",
    "plt.hist(all_angles, color=\"g\", bins=50)\n",
    "plt.title(\"Distribution of angles\")\n",
    "plt.show()"
   ]
  },
  {
   "cell_type": "code",
   "execution_count": 9,
   "metadata": {},
   "outputs": [
    {
     "data": {
      "image/png": "[encoded data removed]",
      "text/plain": [
       "<Figure size 432x288 with 1 Axes>"
      ]
     },
     "metadata": {},
     "output_type": "display_data"
    }
   ],
   "source": [
    "plt.hist(all_angles, density=1, histtype='step', cumulative=True, bins=30, color='g')\n",
    "plt.title(\"Cummulative density distribution of angles\")\n",
    "plt.show()"
   ]
  },
  {
   "cell_type": "code",
   "execution_count": 10,
   "metadata": {},
   "outputs": [
    {
     "data": {
      "image/png": "[encoded data removed]",
      "text/plain": [
       "<Figure size 432x288 with 1 Axes>"
      ]
     },
     "metadata": {},
     "output_type": "display_data"
    }
   ],
   "source": [
    "plt.hist(contacts['dihedral'], color=\"r\", bins=50)\n",
    "plt.title(\"Distribution of dihedral angles\")\n",
    "plt.show()"
   ]
  },
  {
   "cell_type": "code",
   "execution_count": 11,
   "metadata": {},
   "outputs": [
    {
     "data": {
      "image/png": "[encoded data removed]",
      "text/plain": [
       "<Figure size 432x288 with 1 Axes>"
      ]
     },
     "metadata": {},
     "output_type": "display_data"
    }
   ],
   "source": [
    "plt.hist(contacts['dihedral'], density=1, histtype='step', cumulative=True, bins=30, color='r')\n",
    "plt.title(\"Cummulative density distribution of dihedrals\")\n",
    "plt.show()"
   ]
  },
  {
   "cell_type": "code",
   "execution_count": 17,
   "metadata": {},
   "outputs": [
    {
     "name": "stdout",
     "output_type": "stream",
     "text": [
      "Number of unique pairs: 15\n"
     ]
    }
   ],
   "source": [
    "# Ugly hack below. :( We want a unique identifier for each residue pair.\n",
    "# Make a list of alphabetically sorted concatenated residue pairs.\n",
    "pairs = [sorted((i[0], i[1])) for i in list(zip(contacts.res1name, contacts.res2name))]\n",
    "pair_ids = sorted([pair[0] + \"-\" + pair[1] for pair in pairs])\n",
    "\n",
    "print(\"Number of unique pairs:\", len(np.unique(np.array(pair_ids))))"
   ]
  },
  {
   "cell_type": "markdown",
   "metadata": {},
   "source": [
    "### Fquency of H···H contacts for all combinations of residues"
   ]
  },
  {
   "cell_type": "code",
   "execution_count": 24,
   "metadata": {},
   "outputs": [
    {
     "data": {
      "image/png": "[encoded data removed]",
      "text/plain": [
       "<Figure size 432x288 with 1 Axes>"
      ]
     },
     "metadata": {},
     "output_type": "display_data"
    }
   ],
   "source": [
    "labels, counts = np.unique(pair_ids, return_counts=True)\n",
    "plt.bar(labels, counts, align='center')\n",
    "plt.gca().set_xticks(labels)\n",
    "plt.title(\"Frequency of interaction\")\n",
    "plt.xticks(rotation=90)\n",
    "plt.show()"
   ]
  }
 ],
 "metadata": {
  "kernelspec": {
   "display_name": "Python 3",
   "language": "python",
   "name": "python3"
  },
  "language_info": {
   "codemirror_mode": {
    "name": "ipython",
    "version": 3
   },
   "file_extension": ".py",
   "mimetype": "text/x-python",
   "name": "python",
   "nbconvert_exporter": "python",
   "pygments_lexer": "ipython3",
   "version": "3.6.5"
  }
 },
 "nbformat": 4,
 "nbformat_minor": 2
}
